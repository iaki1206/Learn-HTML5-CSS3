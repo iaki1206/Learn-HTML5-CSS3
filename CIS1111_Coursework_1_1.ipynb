{
  "cells": [
    {
      "cell_type": "markdown",
      "metadata": {
        "id": "view-in-github",
        "colab_type": "text"
      },
      "source": [
        "<a href=\"https://colab.research.google.com/github/iaki1206/Learn-HTML5-CSS3/blob/master/CIS1111_Coursework_1_1.ipynb\" target=\"_parent\"><img src=\"https://colab.research.google.com/assets/colab-badge.svg\" alt=\"Open In Colab\"/></a>"
      ]
    },
    {
      "cell_type": "markdown",
      "metadata": {
        "id": "7bdg9MciSFs3"
      },
      "source": [
        "# CIS1111 Coursework 1.1\n",
        "\n",
        "Author: Dr. Robert Lyon\n",
        "\n",
        "Institution: Edge Hill University\n",
        "\n",
        "Version: 1.0\n",
        "    \n",
        "## Code & License\n",
        "The code and the contents of this notebook are released under the GNU GENERAL PUBLIC LICENSE, Version 3, 29 June 2007. Any videos are exempt from this, please check the license provided by the video content owners if you would like to use them.\n",
        "\n",
        "## Overview\n",
        "\n",
        "This notebook has been written to help you complete your coursework in Google Colab, instead of PyCharm. The instructions are exactly the same as in the practice coursework document.\n",
        "\n",
        "<br/>\n",
        "\n",
        "**You must follow my instructions exactly.**\n",
        "\n",
        "<br/>\n",
        "\n",
        "The cell below contains the code that **you need to edit**. Each time you make an edit, if you want to test it, you must do the following:\n",
        "\n",
        "<br/>\n",
        "\n",
        "1. Run the code in your edited cell first.\n",
        "2. Then run the helper code in a cell further down to test it.\n",
        "\n",
        "<br/>\n",
        "\n",
        "You must do this each time.\n",
        "\n",
        "<br/>\n",
        "\n",
        "This is the pattern you must follow each time - every single time you make an edit, run your code, then run the helper code. I'm going to say this again for complete clarity, as often students neglect to listen to me :)\n",
        "\n",
        "<br/>\n",
        "\n",
        "Edit your code in the cell below.\n",
        "\n",
        "<br/>\n",
        "\n",
        "Run your code in the cell below.\n",
        "\n",
        "<br/>\n",
        "\n",
        "Run the helper code in the cell (which is further down the notebook. If you code is working correctly, you'll be able to tell form the output of the help file.\n",
        "\n",
        "<br/>\n",
        "\n",
        "## Submitting you code\n",
        "\n",
        "There is a video on blackbaord that shows you how to do this - but I'll repeat thoese instructions again.\n",
        "\n",
        "1. Once finished editing your code, copy all the code from the cell.\n",
        "2. Paste that code into a new empty file - call that file gravity.py.\n",
        "3. Zip up the gravity.py as per the instructions in the coursework document and Blackboard.\n",
        "4. Submit the zip file to the submission Dropbox.\n",
        "\n",
        "<br/>\n",
        "\n",
        "\n"
      ]
    },
    {
      "cell_type": "markdown",
      "metadata": {
        "id": "TdiFaqjYULtQ"
      },
      "source": [
        "## CELL TO EDIT\n",
        "\n",
        "The cell directly below contains the code that you will submit."
      ]
    },
    {
      "cell_type": "code",
      "execution_count": null,
      "metadata": {
        "id": "ASynfRY9SBS1"
      },
      "outputs": [],
      "source": [
        "#! /usr/bin/env python\n",
        "\"\"\"\n",
        "This is free software: you can redistribute it and/or modify it under the terms\n",
        "of the GNU General Public License as published by the Free Software Foundation,\n",
        "either version 3 of the License, or (at your option) any later version. It is\n",
        "distributed in the hope that it will be useful, but WITHOUT ANY WARRANTY;\n",
        "without even the implied warranty of MERCHANTABILITY or FITNESS FOR A\n",
        "PARTICULAR PURPOSE.  See the GNU General Public License for more details.\n",
        "\n",
        "You should have received a copy of the GNU General Public License along with\n",
        "the code.  If not, see <http://www.gnu.org/licenses/>.\n",
        "\n",
        "File name: \tgravity.py\n",
        "Created:\tJune 18th, 2020\n",
        "Author:\tDr. Robert Lyon \n",
        "\"\"\"\n",
        "\n",
        "\n",
        "def compute_attraction(m1, m2, r):\n",
        "    \"\"\"\n",
        "    Computes the force of gravitational attraction between two objects.\n",
        "\n",
        "    :param m1: mass of the first object in kilograms.\n",
        "    :param m2: mass of the second object in kilograms.\n",
        "    :param r: distance between the objects in metres.\n",
        "\n",
        "    :return: the attraction force between the objects in Newtons (float).\n",
        "    \"\"\"\n",
        "\n",
        "    # make a change here?\n"
      ]
    },
    {
      "cell_type": "markdown",
      "metadata": {
        "id": "TJw2XTxVUbZy"
      },
      "source": [
        "## HELPER CELL\n",
        "\n",
        "Run this after you make changes in your cell above."
      ]
    },
    {
      "cell_type": "code",
      "execution_count": 13,
      "metadata": {
        "id": "KVifLyQBUigd",
        "colab": {
          "base_uri": "https://localhost:8080/"
        },
        "outputId": "3244dae4-006d-443e-bc4c-90652c7ddbf3"
      },
      "outputs": [
        {
          "output_type": "stream",
          "name": "stdout",
          "text": [
            "Helper file for Coursework 1.1 - do not modify me!\n",
            "The tests below show the input and expected output.\r\r\n",
            "Test 1.\n",
            "\tm1 = 4960000000 kg (Mass of U.S.S. Enterprise 1701-D).\n",
            "\tm2 = 92000000 kg (Mass of Nimitz-Class Aircraft carrier).\n",
            "\tr = 100 metres.\n",
            "\tExpected Output = 3045 N\n",
            "\tThat's about 70% of the world record human bite force (4337 N).\n",
            "\tActual Output = 3045.0234\n"
          ]
        }
      ],
      "source": [
        "#! /usr/bin/env python\n",
        "\"\"\"\n",
        "This is free software: you can redistribute it and/or modify it under the terms\n",
        "of the GNU General Public License as published by the Free Software Foundation,\n",
        "either version 3 of the License, or (at your option) any later version. It is\n",
        "distributed in the hope that it will be useful, but WITHOUT ANY WARRANTY;\n",
        "without even the implied warranty of MERCHANTABILITY or FITNESS FOR A\n",
        "PARTICULAR PURPOSE.  See the GNU General Public License for more details.\n",
        "\n",
        "You should have received a copy of the GNU General Public License along with\n",
        "the code.  If not, see <http://www.gnu.org/licenses/>.\n",
        "\n",
        "File name: \thelper_1.py\n",
        "Created:\tJune 18th, 2020\n",
        "Author:\tDr. Robert Lyon \n",
        "\n",
        "\"\"\"\n",
        "\n",
        "\n",
        "def main():\n",
        "    \"\"\"\n",
        "    The entry point for program execution.\n",
        "\n",
        "    :return: N/A\n",
        "    \"\"\"\n",
        "    print(\"Helper file for Coursework 1.1 - do not modify me!\")\n",
        "    print(\"The tests below show the input and expected output.\\r\\r\")\n",
        "\n",
        "    print(\"Test 1.\")\n",
        "    m1 = 4960000000  # Mass of the U.S.S. Enterprise 1701-D\n",
        "    m2 = 92000000  # Mass of Nimitz-Class Aircraft carrier.\n",
        "    r = 100\n",
        "    print(\"\\tm1 = \" + str(m1) + \" kg (Mass of U.S.S. Enterprise 1701-D).\")\n",
        "    print(\"\\tm2 = \" + str(m2) + \" kg (Mass of Nimitz-Class Aircraft carrier).\")\n",
        "    print(\"\\tr = \" + str(r) + \" metres.\")\n",
        "    print(\"\\tExpected Output = 3045 N\")\n",
        "    print(\"\\tThat's about 70% of the world record human bite force (4337 N).\")\n",
        "    result = compute_attraction(m1, m2, r)\n",
        "    print(\"\\tActual Output = \" + str(result))\n",
        "\n",
        "def compute_attraction(m1, m2, r):\n",
        "    g = 6.673 * (10 ** -11)\n",
        "    f = (g * m1 * m2) / (r ** 2)\n",
        "\n",
        "    return round(f, 4)\n",
        "\n",
        "    m1 = 4960000000\n",
        "    m2 = 92000000\n",
        "    r = 100\n",
        "\n",
        "    print(\"The gravitational force is: \")\n",
        "    print(\"compute_attraction(m1, m2, r)\", \"N\")\n",
        "    print(\"\\tExpected Output = 3045 N\")\n",
        "    print(\"\\tThat's about 70% of the world record human bite force (4337 N).\")\n",
        "    result = compute_attraction(m1, m2, r)\n",
        "    print(\"\\tActual Output = \" + str(result))\n",
        "\n",
        "    # Round result to 4 decimal places and compare\n",
        "    if round(result, 4) != 3045.6166:\n",
        "        print(\"\\tFailed!\")\n",
        "    else:\n",
        "        print(\"\\tPassed!\")\n",
        "\n",
        "if __name__ == \"__main__\":\n",
        "    # Executes the main method only if run as a script. Will not\n",
        "    # execute main() if only parts of this file are imported in\n",
        "    # to another file.\n",
        "    main()\n"
      ]
    }
  ],
  "metadata": {
    "colab": {
      "collapsed_sections": [],
      "provenance": [],
      "include_colab_link": true
    },
    "kernelspec": {
      "display_name": "Python 3",
      "language": "python",
      "name": "python3"
    },
    "language_info": {
      "codemirror_mode": {
        "name": "ipython",
        "version": 3
      },
      "file_extension": ".py",
      "mimetype": "text/x-python",
      "name": "python",
      "nbconvert_exporter": "python",
      "pygments_lexer": "ipython3",
      "version": "3.8.8"
    }
  },
  "nbformat": 4,
  "nbformat_minor": 0
}